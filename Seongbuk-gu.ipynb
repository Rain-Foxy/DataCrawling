{
 "cells": [
  {
   "cell_type": "code",
   "execution_count": 28,
   "id": "0cac5bd6",
   "metadata": {},
   "outputs": [
    {
     "data": {
      "text/html": [
       "<div>\n",
       "<style scoped>\n",
       "    .dataframe tbody tr th:only-of-type {\n",
       "        vertical-align: middle;\n",
       "    }\n",
       "\n",
       "    .dataframe tbody tr th {\n",
       "        vertical-align: top;\n",
       "    }\n",
       "\n",
       "    .dataframe thead th {\n",
       "        text-align: right;\n",
       "    }\n",
       "</style>\n",
       "<table border=\"1\" class=\"dataframe\">\n",
       "  <thead>\n",
       "    <tr style=\"text-align: right;\">\n",
       "      <th></th>\n",
       "      <th>업종분류</th>\n",
       "      <th>개수</th>\n",
       "    </tr>\n",
       "  </thead>\n",
       "  <tbody>\n",
       "    <tr>\n",
       "      <th>한식 음식점업</th>\n",
       "      <td>186</td>\n",
       "      <td>NaN</td>\n",
       "    </tr>\n",
       "    <tr>\n",
       "      <th>기타 주점업</th>\n",
       "      <td>82</td>\n",
       "      <td>NaN</td>\n",
       "    </tr>\n",
       "    <tr>\n",
       "      <th>비알콜 음료점업</th>\n",
       "      <td>80</td>\n",
       "      <td>NaN</td>\n",
       "    </tr>\n",
       "    <tr>\n",
       "      <th>분식 및 김밥 전문점</th>\n",
       "      <td>57</td>\n",
       "      <td>NaN</td>\n",
       "    </tr>\n",
       "    <tr>\n",
       "      <th>체인화 편의점</th>\n",
       "      <td>48</td>\n",
       "      <td>NaN</td>\n",
       "    </tr>\n",
       "    <tr>\n",
       "      <th>...</th>\n",
       "      <td>...</td>\n",
       "      <td>...</td>\n",
       "    </tr>\n",
       "    <tr>\n",
       "      <th>중고 자동차 판매업</th>\n",
       "      <td>1</td>\n",
       "      <td>NaN</td>\n",
       "    </tr>\n",
       "    <tr>\n",
       "      <th>스포츠 교육기관</th>\n",
       "      <td>1</td>\n",
       "      <td>NaN</td>\n",
       "    </tr>\n",
       "    <tr>\n",
       "      <th>가방 및 기타 가죽제품 소매업</th>\n",
       "      <td>1</td>\n",
       "      <td>NaN</td>\n",
       "    </tr>\n",
       "    <tr>\n",
       "      <th>욕탕업</th>\n",
       "      <td>1</td>\n",
       "      <td>NaN</td>\n",
       "    </tr>\n",
       "    <tr>\n",
       "      <th>백화점</th>\n",
       "      <td>1</td>\n",
       "      <td>NaN</td>\n",
       "    </tr>\n",
       "  </tbody>\n",
       "</table>\n",
       "<p>107 rows × 2 columns</p>\n",
       "</div>"
      ],
      "text/plain": [
       "                  업종분류   개수\n",
       "한식 음식점업            186  NaN\n",
       "기타 주점업              82  NaN\n",
       "비알콜 음료점업            80  NaN\n",
       "분식 및 김밥 전문점         57  NaN\n",
       "체인화 편의점             48  NaN\n",
       "...                ...  ...\n",
       "중고 자동차 판매업           1  NaN\n",
       "스포츠 교육기관             1  NaN\n",
       "가방 및 기타 가죽제품 소매업     1  NaN\n",
       "욕탕업                  1  NaN\n",
       "백화점                  1  NaN\n",
       "\n",
       "[107 rows x 2 columns]"
      ]
     },
     "execution_count": 28,
     "metadata": {},
     "output_type": "execute_result"
    }
   ],
   "source": [
    "import pandas as pd\n",
    "Final = pd.read_csv(\"D:/김정재/서경대학자료/서경대4학년/데이터크롤링/Final.csv\", encoding=\"cp949\")\n",
    "annlyze = pd.DataFrame(Sum, columns = ('업종분류','개수'))\n",
    "annlyze.to_csv('./test.csv', encoding = 'cp949', mode = 'w', index = True)\n",
    "annlyze"
   ]
  },
  {
   "cell_type": "code",
   "execution_count": 29,
   "id": "dbf221b9",
   "metadata": {},
   "outputs": [
    {
     "data": {
      "text/plain": [
       "한식 음식점업             186\n",
       "기타 주점업               82\n",
       "비알콜 음료점업             80\n",
       "분식 및 김밥 전문점          57\n",
       "체인화 편의점              48\n",
       "                   ... \n",
       "중고 자동차 판매업            1\n",
       "스포츠 교육기관              1\n",
       "가방 및 기타 가죽제품 소매업      1\n",
       "욕탕업                   1\n",
       "백화점                   1\n",
       "Name: 업종분류, Length: 107, dtype: int64"
      ]
     },
     "execution_count": 29,
     "metadata": {},
     "output_type": "execute_result"
    }
   ],
   "source": [
    "Final['업종분류'].value_counts()"
   ]
  }
 ],
 "metadata": {
  "kernelspec": {
   "display_name": "Python 3 (ipykernel)",
   "language": "python",
   "name": "python3"
  },
  "language_info": {
   "codemirror_mode": {
    "name": "ipython",
    "version": 3
   },
   "file_extension": ".py",
   "mimetype": "text/x-python",
   "name": "python",
   "nbconvert_exporter": "python",
   "pygments_lexer": "ipython3",
   "version": "3.9.7"
  }
 },
 "nbformat": 4,
 "nbformat_minor": 5
}
